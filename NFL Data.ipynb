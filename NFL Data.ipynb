{
 "cells": [
  {
   "cell_type": "markdown",
   "id": "306a6a59",
   "metadata": {},
   "source": [
    "# <center><font color=black> NFL Data Science </font></center>\n",
    "## <center><font color= black> Using FootballDB.com Data </font></center>\n",
    "### <center> David Armah Jr. </center>"
   ]
  },
  {
   "cell_type": "markdown",
   "id": "fa7b5a1d",
   "metadata": {},
   "source": [
    "### WebScrape / Data Cleaning Process"
   ]
  },
  {
   "cell_type": "code",
   "execution_count": 1,
   "id": "ce7a1b99",
   "metadata": {},
   "outputs": [],
   "source": [
    "#Necessary Imports for this Section\n",
    "import requests\n",
    "from bs4 import BeautifulSoup\n",
    "import pandas as pd\n",
    "import html5lib"
   ]
  },
  {
   "cell_type": "code",
   "execution_count": 2,
   "id": "bb01a789",
   "metadata": {},
   "outputs": [],
   "source": [
    "## Configure and Collect Data\n",
    "## Retrieve Data from given url\n",
    "# Return data in a pandas DataFrame\n",
    "def configure(url):\n",
    "  \n",
    "    hdr = {'User-Agent': 'Mozilla/5.0 (X11; Linux x86_64) AppleWebKit/537.11 (KHTML, like Gecko) Chrome/23.0.1271.64 Safari/537.11',\n",
    "       'Accept': 'text/html,application/xhtml+xml,application/xml;q=0.9,*/*;q=0.8',\n",
    "       'Accept-Charset': 'ISO-8859-1,utf-8;q=0.7,*;q=0.3',\n",
    "       'Accept-Encoding': 'none',\n",
    "       'Accept-Language': 'en-US,en;q=0.8',\n",
    "       'Connection': 'keep-alive'}\n",
    "    data = requests.get(url, headers=hdr)\n",
    "    soup = BeautifulSoup(data.text, 'html.parser')\n",
    "    table = soup.find_all('table')\n",
    "    df = pd.read_html(str(table))[0]\n",
    "    return df\n",
    "\n",
    "## Cleans the Players Data, fixing all unnessecary data \n",
    "def clean_playerData(df):\n",
    "    #df['Player'] = df['Player'].str.split(\".\").str[0]\n",
    "    #df['Player'] = df['Player'].str[:-1]\n",
    "    #df.index = df['Player']\n",
    "    for i in df['Player']:\n",
    "        player = i\n",
    "        #print(player)\n",
    "        \n",
    "        L = False\n",
    "        R = 0\n",
    "        \n",
    "        while R < len(player):\n",
    "            \n",
    "            if player[R] == ' ' and L == False:\n",
    "                L = True\n",
    "            elif player[R] == '.' and L == True:\n",
    "                df['Player'] = df['Player'].replace(player, player[:R])\n",
    "                #df['Player'] = df['Player'].str[:-1]\n",
    "                break\n",
    "            R += 1\n",
    "    df['Player'] = df['Player'].str[:-1]\n",
    "    df.index = df['Player']\n",
    "\n",
    "#Cleans the Team Data, fixing all unnecessary data\n",
    "def clean_teamData(df):\n",
    "    for i in df['Team']:\n",
    "        team = i\n",
    "    \n",
    "        L = False\n",
    "        R =0\n",
    "    \n",
    "        while R < len(team):\n",
    "            if (team[R].isupper() or team[R].isdigit()) and L == False:\n",
    "                L = True    \n",
    "            elif team[R].isupper() and L == True:\n",
    "                df['Team']= df['Team'].replace(team, team[:R])\n",
    "                break    \n",
    "            elif team[R] == \" \":\n",
    "                L = False\n",
    "            R += 1  \n",
    "    df.index = df['Team']"
   ]
  },
  {
   "cell_type": "code",
   "execution_count": 3,
   "id": "f3577a4c",
   "metadata": {},
   "outputs": [],
   "source": []
  },
  {
   "cell_type": "code",
   "execution_count": 4,
   "id": "5b9cae1f",
   "metadata": {},
   "outputs": [],
   "source": []
  },
  {
   "cell_type": "code",
   "execution_count": 5,
   "id": "49542c3a",
   "metadata": {},
   "outputs": [],
   "source": [
    "def player_test(year):\n",
    "    for i in year:\n",
    "        #passing\n",
    "        passing_stats = 'https://www.footballdb.com/statistics/nfl/player-stats/passing/' + str(year) + '/regular-season?sort=passrate&limit=all'\n",
    "        #rushing\n",
    "        rushing_stats = 'https://www.footballdb.com/statistics/nfl/player-stats/rushing/' + str(year) + '/regular-season?sort=rushyds&limit=all'\n",
    "        #receiving\n",
    "        receiving_stats = 'https://www.footballdb.com/statistics/nfl/player-stats/receiving/' + str(year) + '/regular-season?sort=recnum&limit=all'\n",
    "        player_test = [passing_stats,rushing_stats, receiving_stats]\n",
    "        player_list = []\n",
    "        for i in player_test:\n",
    "            curr_df = configure(i)\n",
    "            clean_playerData(curr_df)\n",
    "            player_list.append(curr_df)\n",
    "        return player_list\n",
    "def team_test(year):\n",
    "    for i in year: \n",
    "        #team offense\n",
    "        offensive_stats = 'https://www.footballdb.com/stats/teamstat.html?lg=NFL&yr=' + str(year) + '&type=reg&cat=T&group=O&conf='\n",
    "        #team defense\n",
    "        defensive_stats = 'https://www.footballdb.com/stats/teamstat.html?lg=NFL&yr=' + str(year) + '&type=reg&cat=T&group=D&conf='\n",
    "        #play selection data\n",
    "        plays_stats = 'https://www.footballdb.com/stats/teamstat.html?lg=NFL&yr=' + str(year) + '&type=reg&cat=S&group=O&conf='\n",
    "        team_test = [offensive_stats,defensive_stats,plays_stats ]\n",
    "        team_list = []\n",
    "        for i in team_test:\n",
    "            curr_df = configure(i)\n",
    "            clean_teamData(curr_df)\n",
    "            team_list.append(curr_df)\n",
    "        return team_list\n",
    "    "
   ]
  },
  {
   "cell_type": "code",
   "execution_count": null,
   "id": "36067f00",
   "metadata": {},
   "outputs": [],
   "source": [
    "players_2022 = player_test([2022])\n",
    "teams_2022 = team_test([2022])"
   ]
  },
  {
   "cell_type": "code",
   "execution_count": null,
   "id": "11cba1ce",
   "metadata": {},
   "outputs": [],
   "source": [
    "passing_2022 = players_2022[0]\n",
    "rushing_2022 = players_2022[1]\n",
    "receiving_2022 = players_2022[2]\n",
    "teamOffense_2022 = teams_2022[0]\n",
    "teamDefense_2022 = teams_2022[1]\n",
    "teamPlays_2022 = teams_2022[2]"
   ]
  },
  {
   "cell_type": "code",
   "execution_count": null,
   "id": "e965a64b",
   "metadata": {},
   "outputs": [],
   "source": [
    "\n"
   ]
  },
  {
   "cell_type": "code",
   "execution_count": null,
   "id": "4f9540a2",
   "metadata": {},
   "outputs": [],
   "source": [
    "# create data for average statistics\n",
    "\n",
    "avg_passing_2022 = passing_2022.copy()\n",
    "avg_rushing_2022 = rushing_2022.copy()\n",
    "avg_receiving_2022 = receiving_2022.copy()"
   ]
  },
  {
   "cell_type": "code",
   "execution_count": null,
   "id": "247ea54e",
   "metadata": {},
   "outputs": [],
   "source": [
    "def get_averages(passing, rushing, receiving):\n",
    "    passing = passing.drop(columns=['YPA', 'TD%T%','Int%I%','Lg','Sack', 'Loss', 'Rate'])\n",
    "    rushing = rushing.drop(columns=['Avg', 'YPG','Lg' ])\n",
    "    receiving = receiving.drop(columns=['Avg', 'YPG', 'Lg'])\n",
    "    passing[['Att', \n",
    "                  'Cmp', 'Pct', 'Yds', 'TD', 'Int']] = passing[[ 'Att', \n",
    "                                                                         'Cmp', 'Pct', 'Yds', 'TD', 'Int']].div(passing['Gms'].values,axis=0)\n",
    "    rushing[[ 'Att', 'Yds', \n",
    "                  'TD', 'FD']] = rushing[['Att', 'Yds', \n",
    "                                                   'TD', 'FD']].div(rushing['Gms'].values,axis=0)\n",
    "    receiving[[ 'Rec', 'Yds', \n",
    "                    'TD', 'FD', 'Tar', 'YAC']] = receiving[[ 'Rec', 'Yds', \n",
    "                                                                     'TD', 'FD', 'Tar', 'YAC']].div(receiving['Gms'].values,axis=0)\n",
    "    return passing, rushing, receiving\n",
    "\n",
    "\n",
    "\n",
    "    "
   ]
  },
  {
   "cell_type": "code",
   "execution_count": null,
   "id": "2f904578",
   "metadata": {},
   "outputs": [],
   "source": [
    "pass_avg, rush_avg, rec_avg = get_averages(avg_passing_2022, avg_rushing_2022, avg_receiving_2022 )"
   ]
  },
  {
   "cell_type": "code",
   "execution_count": null,
   "id": "bedc2497",
   "metadata": {},
   "outputs": [],
   "source": [
    "rec_avg"
   ]
  },
  {
   "cell_type": "code",
   "execution_count": null,
   "id": "70b1b8cf",
   "metadata": {},
   "outputs": [],
   "source": []
  },
  {
   "cell_type": "code",
   "execution_count": null,
   "id": "872dad02",
   "metadata": {},
   "outputs": [],
   "source": []
  },
  {
   "cell_type": "code",
   "execution_count": null,
   "id": "fdd51be0",
   "metadata": {},
   "outputs": [],
   "source": []
  },
  {
   "cell_type": "code",
   "execution_count": null,
   "id": "268e065e",
   "metadata": {},
   "outputs": [],
   "source": []
  },
  {
   "cell_type": "code",
   "execution_count": null,
   "id": "441de47e",
   "metadata": {},
   "outputs": [],
   "source": []
  },
  {
   "cell_type": "code",
   "execution_count": null,
   "id": "065961ab",
   "metadata": {},
   "outputs": [],
   "source": []
  },
  {
   "cell_type": "code",
   "execution_count": null,
   "id": "87749793",
   "metadata": {},
   "outputs": [],
   "source": []
  }
 ],
 "metadata": {
  "kernelspec": {
   "display_name": "Python 3 (ipykernel)",
   "language": "python",
   "name": "python3"
  },
  "language_info": {
   "codemirror_mode": {
    "name": "ipython",
    "version": 3
   },
   "file_extension": ".py",
   "mimetype": "text/x-python",
   "name": "python",
   "nbconvert_exporter": "python",
   "pygments_lexer": "ipython3",
   "version": "3.10.9"
  }
 },
 "nbformat": 4,
 "nbformat_minor": 5
}
