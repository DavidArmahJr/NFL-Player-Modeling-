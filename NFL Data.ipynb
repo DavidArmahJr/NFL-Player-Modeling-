{
 "cells": [
  {
   "cell_type": "markdown",
   "id": "306a6a59",
   "metadata": {},
   "source": [
    "# <center><font color=black> NFL Data Science </font></center>\n",
    "### <center> David Armah Jr. </center>"
   ]
  },
  {
   "cell_type": "markdown",
   "id": "fa7b5a1d",
   "metadata": {},
   "source": [
    "### WebScrape / Data Cleaning Process"
   ]
  },
  {
   "cell_type": "code",
   "execution_count": 1,
   "id": "ce7a1b99",
   "metadata": {},
   "outputs": [],
   "source": [
    "#Necessary Imports for this Section\n",
    "import requests\n",
    "from bs4 import BeautifulSoup\n",
    "import pandas as pd\n",
    "import html5lib"
   ]
  },
  {
   "cell_type": "code",
   "execution_count": 17,
   "id": "bb01a789",
   "metadata": {},
   "outputs": [],
   "source": [
    "## Configure and Collect Data\n",
    "## Retrieve Data from given url\n",
    "# Return data in a pandas DataFrame\n",
    "def configure(url):\n",
    "  \n",
    "    hdr = {'User-Agent': 'Mozilla/5.0 (X11; Linux x86_64) AppleWebKit/537.11 (KHTML, like Gecko) Chrome/23.0.1271.64 Safari/537.11',\n",
    "       'Accept': 'text/html,application/xhtml+xml,application/xml;q=0.9,*/*;q=0.8',\n",
    "       'Accept-Charset': 'ISO-8859-1,utf-8;q=0.7,*;q=0.3',\n",
    "       'Accept-Encoding': 'none',\n",
    "       'Accept-Language': 'en-US,en;q=0.8',\n",
    "       'Connection': 'keep-alive'}\n",
    "    data = requests.get(url, headers=hdr)\n",
    "    soup = BeautifulSoup(data.text, 'html.parser')\n",
    "    table = soup.find_all('table')\n",
    "    #print(table)\n",
    "    df = pd.read_html(str(table))[0]\n",
    "    return df\n",
    "\n",
    "## Cleans the Players Data, fixing all unnessecary data \n",
    "def clean_playerData(df):\n",
    "    #df['Player'] = df['Player'].str.split(\".\").str[0]\n",
    "    #df['Player'] = df['Player'].str[:-1]\n",
    "    #df.index = df['Player']\n",
    "    for i in df['Player']:\n",
    "        player = i\n",
    "        #print(player)\n",
    "        \n",
    "        L = False\n",
    "        R = 0\n",
    "        \n",
    "        while R < len(player):\n",
    "            \n",
    "            if player[R] == ' ' and L == False:\n",
    "                L = True\n",
    "            elif player[R] == '.' and L == True:\n",
    "                df['Player'] = df['Player'].replace(player, player[:R])\n",
    "                #df['Player'] = df['Player'].str[:-1]\n",
    "                break\n",
    "            R += 1\n",
    "    df['Player'] = df['Player'].str[:-1]\n",
    "    df.index = df['Player']\n",
    "\n",
    "#Cleans the Team Data, fixing all unnecessary data\n",
    "def clean_teamData(df):\n",
    "    #print(df.columns)\n",
    "\n",
    "    for i in df['Team']:\n",
    "        team = i\n",
    "    \n",
    "        L = False\n",
    "        R =0\n",
    "    \n",
    "        while R < len(team):\n",
    "            if (team[R].isupper() or team[R].isdigit()) and L == False:\n",
    "                L = True    \n",
    "            elif team[R].isupper() and L == True:\n",
    "                df['Team']= df['Team'].replace(team, team[:R])\n",
    "                break    \n",
    "            elif team[R] == \" \":\n",
    "                L = False\n",
    "            R += 1  \n",
    "    #df.index = df['Team']"
   ]
  },
  {
   "cell_type": "code",
   "execution_count": null,
   "id": "f3577a4c",
   "metadata": {},
   "outputs": [],
   "source": []
  },
  {
   "cell_type": "code",
   "execution_count": null,
   "id": "5b9cae1f",
   "metadata": {},
   "outputs": [],
   "source": []
  },
  {
   "cell_type": "code",
   "execution_count": 28,
   "id": "49542c3a",
   "metadata": {},
   "outputs": [],
   "source": [
    "def player_test(year):\n",
    "    count = 0\n",
    "    for i in year:\n",
    "        \n",
    "        #passing table URL\n",
    "        passing_stats = 'https://www.footballdb.com/statistics/nfl/player-stats/passing/' + str(year[count]) + '/regular-season?sort=passrate&limit=all'\n",
    "        #rushing table URL\n",
    "        rushing_stats = 'https://www.footballdb.com/statistics/nfl/player-stats/rushing/' + str(year[count]) + '/regular-season?sort=rushyds&limit=all'\n",
    "        #receiving table URL\n",
    "        receiving_stats = 'https://www.footballdb.com/statistics/nfl/player-stats/receiving/' + str(year[count]) + '/regular-season?sort=recnum&limit=all'\n",
    "        # Save URLS\n",
    "        player_test = [passing_stats,rushing_stats, receiving_stats]\n",
    "        player_list = []\n",
    "        for j in player_test:\n",
    "            curr_df = configure(j)\n",
    "            clean_playerData(curr_df)\n",
    "            player_list.append(curr_df)\n",
    "        count += 1\n",
    "        return player_list\n",
    "def team_test(year):\n",
    "    count = 0\n",
    "    for i in year: \n",
    "        #team offense URL\n",
    "        offensive_stats = 'https://www.footballdb.com/stats/teamstat.html?lg=NFL&yr=' + str(year[count]) + '&type=reg&cat=T&group=O&conf='\n",
    "        #team defense URL\n",
    "        defensive_stats = 'https://www.footballdb.com/stats/teamstat.html?lg=NFL&yr=' + str(year[count]) + '&type=reg&cat=T&group=D&conf='\n",
    "        #play selection data URL\n",
    "       # plays_stats = 'https://www.footballdb.com/stats/teamstat.html?lg=NFL&yr=' + str(year[count]) + '&type=reg&cat=S&group=O&conf='\n",
    "        team_test = [offensive_stats,defensive_stats]##,plays_stats ]\n",
    "        team_list = []\n",
    "        count2 = 0\n",
    "        for j in team_test:\n",
    "         \n",
    "            curr_df = configure(j)\n",
    "            if (count2 == 2):\n",
    "                curr_df = curr_df.reset_index(level=[0]) \n",
    "            print(curr_df.columns)\n",
    "            clean_teamData(curr_df)\n",
    "            team_list.append(curr_df)\n",
    "            count2+=1\n",
    "        count += 1\n",
    "        return team_list\n",
    "    "
   ]
  },
  {
   "cell_type": "code",
   "execution_count": 29,
   "id": "36067f00",
   "metadata": {},
   "outputs": [
    {
     "name": "stdout",
     "output_type": "stream",
     "text": [
      "Index(['Team', 'Gms', 'Tot Pts', 'Pts/G', 'RushYds', 'RYds/G', 'PassYds',\n",
      "       'PYds/G', 'TotYds', 'Yds/G'],\n",
      "      dtype='object')\n",
      "Index(['Team', 'Gms', 'Tot Pts', 'Pts/G', 'RushYds', 'RYds/G', 'PassYds',\n",
      "       'PYds/G', 'TotYds', 'Yds/G'],\n",
      "      dtype='object')\n",
      "MultiIndex([(             'index',     ''),\n",
      "            ('Unnamed: 0_level_0', 'Team'),\n",
      "            (        'Touchdowns',  'Tot'),\n",
      "            (        'Touchdowns',    'R'),\n",
      "            (        'Touchdowns',    'P'),\n",
      "            (        'Touchdowns',   'KR'),\n",
      "            (        'Touchdowns',   'PR'),\n",
      "            (        'Touchdowns',   'IR'),\n",
      "            (        'Touchdowns',   'FR'),\n",
      "            (        'Touchdowns',   'BK'),\n",
      "            (        'Touchdowns',   'BP'),\n",
      "            (        'Touchdowns',  'FGR'),\n",
      "            (           'Kicking',  'PAT'),\n",
      "            (           'Kicking',   'FG'),\n",
      "            (              'Misc', 'Conv'),\n",
      "            (              'Misc',  'Saf'),\n",
      "            (              'Misc',  'Pts')],\n",
      "           )\n"
     ]
    },
    {
     "ename": "KeyError",
     "evalue": "'Team'",
     "output_type": "error",
     "traceback": [
      "\u001b[0;31m---------------------------------------------------------------------------\u001b[0m",
      "\u001b[0;31mKeyError\u001b[0m                                  Traceback (most recent call last)",
      "File \u001b[0;32m~/anaconda3/lib/python3.10/site-packages/pandas/core/indexes/base.py:3802\u001b[0m, in \u001b[0;36mIndex.get_loc\u001b[0;34m(self, key, method, tolerance)\u001b[0m\n\u001b[1;32m   3801\u001b[0m \u001b[38;5;28;01mtry\u001b[39;00m:\n\u001b[0;32m-> 3802\u001b[0m     \u001b[38;5;28;01mreturn\u001b[39;00m \u001b[38;5;28;43mself\u001b[39;49m\u001b[38;5;241;43m.\u001b[39;49m\u001b[43m_engine\u001b[49m\u001b[38;5;241;43m.\u001b[39;49m\u001b[43mget_loc\u001b[49m\u001b[43m(\u001b[49m\u001b[43mcasted_key\u001b[49m\u001b[43m)\u001b[49m\n\u001b[1;32m   3803\u001b[0m \u001b[38;5;28;01mexcept\u001b[39;00m \u001b[38;5;167;01mKeyError\u001b[39;00m \u001b[38;5;28;01mas\u001b[39;00m err:\n",
      "File \u001b[0;32m~/anaconda3/lib/python3.10/site-packages/pandas/_libs/index.pyx:138\u001b[0m, in \u001b[0;36mpandas._libs.index.IndexEngine.get_loc\u001b[0;34m()\u001b[0m\n",
      "File \u001b[0;32m~/anaconda3/lib/python3.10/site-packages/pandas/_libs/index.pyx:165\u001b[0m, in \u001b[0;36mpandas._libs.index.IndexEngine.get_loc\u001b[0;34m()\u001b[0m\n",
      "File \u001b[0;32mpandas/_libs/hashtable_class_helper.pxi:5745\u001b[0m, in \u001b[0;36mpandas._libs.hashtable.PyObjectHashTable.get_item\u001b[0;34m()\u001b[0m\n",
      "File \u001b[0;32mpandas/_libs/hashtable_class_helper.pxi:5753\u001b[0m, in \u001b[0;36mpandas._libs.hashtable.PyObjectHashTable.get_item\u001b[0;34m()\u001b[0m\n",
      "\u001b[0;31mKeyError\u001b[0m: 'Team'",
      "\nThe above exception was the direct cause of the following exception:\n",
      "\u001b[0;31mKeyError\u001b[0m                                  Traceback (most recent call last)",
      "Cell \u001b[0;32mIn[29], line 3\u001b[0m\n\u001b[1;32m      1\u001b[0m \u001b[38;5;66;03m#players_2022 = player_test([2022])\u001b[39;00m\n\u001b[1;32m      2\u001b[0m \u001b[38;5;66;03m# Error is coming from MultiIndex\u001b[39;00m\n\u001b[0;32m----> 3\u001b[0m teams_2022 \u001b[38;5;241m=\u001b[39m \u001b[43mteam_test\u001b[49m\u001b[43m(\u001b[49m\u001b[43m[\u001b[49m\u001b[38;5;241;43m2022\u001b[39;49m\u001b[43m]\u001b[49m\u001b[43m)\u001b[49m\n",
      "Cell \u001b[0;32mIn[28], line 38\u001b[0m, in \u001b[0;36mteam_test\u001b[0;34m(year)\u001b[0m\n\u001b[1;32m     36\u001b[0m     curr_df \u001b[38;5;241m=\u001b[39m curr_df\u001b[38;5;241m.\u001b[39mreset_index(level\u001b[38;5;241m=\u001b[39m[\u001b[38;5;241m0\u001b[39m]) \n\u001b[1;32m     37\u001b[0m \u001b[38;5;28mprint\u001b[39m(curr_df\u001b[38;5;241m.\u001b[39mcolumns)\n\u001b[0;32m---> 38\u001b[0m \u001b[43mclean_teamData\u001b[49m\u001b[43m(\u001b[49m\u001b[43mcurr_df\u001b[49m\u001b[43m)\u001b[49m\n\u001b[1;32m     39\u001b[0m team_list\u001b[38;5;241m.\u001b[39mappend(curr_df)\n\u001b[1;32m     40\u001b[0m count2\u001b[38;5;241m+\u001b[39m\u001b[38;5;241m=\u001b[39m\u001b[38;5;241m1\u001b[39m\n",
      "Cell \u001b[0;32mIn[17], line 47\u001b[0m, in \u001b[0;36mclean_teamData\u001b[0;34m(df)\u001b[0m\n\u001b[1;32m     44\u001b[0m \u001b[38;5;28;01mdef\u001b[39;00m \u001b[38;5;21mclean_teamData\u001b[39m(df):\n\u001b[1;32m     45\u001b[0m     \u001b[38;5;66;03m#print(df.columns)\u001b[39;00m\n\u001b[0;32m---> 47\u001b[0m     \u001b[38;5;28;01mfor\u001b[39;00m i \u001b[38;5;129;01min\u001b[39;00m \u001b[43mdf\u001b[49m\u001b[43m[\u001b[49m\u001b[38;5;124;43m'\u001b[39;49m\u001b[38;5;124;43mTeam\u001b[39;49m\u001b[38;5;124;43m'\u001b[39;49m\u001b[43m]\u001b[49m:\n\u001b[1;32m     48\u001b[0m         team \u001b[38;5;241m=\u001b[39m i\n\u001b[1;32m     50\u001b[0m         L \u001b[38;5;241m=\u001b[39m \u001b[38;5;28;01mFalse\u001b[39;00m\n",
      "File \u001b[0;32m~/anaconda3/lib/python3.10/site-packages/pandas/core/frame.py:3806\u001b[0m, in \u001b[0;36mDataFrame.__getitem__\u001b[0;34m(self, key)\u001b[0m\n\u001b[1;32m   3804\u001b[0m \u001b[38;5;28;01mif\u001b[39;00m is_single_key:\n\u001b[1;32m   3805\u001b[0m     \u001b[38;5;28;01mif\u001b[39;00m \u001b[38;5;28mself\u001b[39m\u001b[38;5;241m.\u001b[39mcolumns\u001b[38;5;241m.\u001b[39mnlevels \u001b[38;5;241m>\u001b[39m \u001b[38;5;241m1\u001b[39m:\n\u001b[0;32m-> 3806\u001b[0m         \u001b[38;5;28;01mreturn\u001b[39;00m \u001b[38;5;28;43mself\u001b[39;49m\u001b[38;5;241;43m.\u001b[39;49m\u001b[43m_getitem_multilevel\u001b[49m\u001b[43m(\u001b[49m\u001b[43mkey\u001b[49m\u001b[43m)\u001b[49m\n\u001b[1;32m   3807\u001b[0m     indexer \u001b[38;5;241m=\u001b[39m \u001b[38;5;28mself\u001b[39m\u001b[38;5;241m.\u001b[39mcolumns\u001b[38;5;241m.\u001b[39mget_loc(key)\n\u001b[1;32m   3808\u001b[0m     \u001b[38;5;28;01mif\u001b[39;00m is_integer(indexer):\n",
      "File \u001b[0;32m~/anaconda3/lib/python3.10/site-packages/pandas/core/frame.py:3857\u001b[0m, in \u001b[0;36mDataFrame._getitem_multilevel\u001b[0;34m(self, key)\u001b[0m\n\u001b[1;32m   3855\u001b[0m \u001b[38;5;28;01mdef\u001b[39;00m \u001b[38;5;21m_getitem_multilevel\u001b[39m(\u001b[38;5;28mself\u001b[39m, key):\n\u001b[1;32m   3856\u001b[0m     \u001b[38;5;66;03m# self.columns is a MultiIndex\u001b[39;00m\n\u001b[0;32m-> 3857\u001b[0m     loc \u001b[38;5;241m=\u001b[39m \u001b[38;5;28;43mself\u001b[39;49m\u001b[38;5;241;43m.\u001b[39;49m\u001b[43mcolumns\u001b[49m\u001b[38;5;241;43m.\u001b[39;49m\u001b[43mget_loc\u001b[49m\u001b[43m(\u001b[49m\u001b[43mkey\u001b[49m\u001b[43m)\u001b[49m\n\u001b[1;32m   3858\u001b[0m     \u001b[38;5;28;01mif\u001b[39;00m \u001b[38;5;28misinstance\u001b[39m(loc, (\u001b[38;5;28mslice\u001b[39m, np\u001b[38;5;241m.\u001b[39mndarray)):\n\u001b[1;32m   3859\u001b[0m         new_columns \u001b[38;5;241m=\u001b[39m \u001b[38;5;28mself\u001b[39m\u001b[38;5;241m.\u001b[39mcolumns[loc]\n",
      "File \u001b[0;32m~/anaconda3/lib/python3.10/site-packages/pandas/core/indexes/multi.py:2916\u001b[0m, in \u001b[0;36mMultiIndex.get_loc\u001b[0;34m(self, key, method)\u001b[0m\n\u001b[1;32m   2913\u001b[0m     \u001b[38;5;28;01mreturn\u001b[39;00m mask\n\u001b[1;32m   2915\u001b[0m \u001b[38;5;28;01mif\u001b[39;00m \u001b[38;5;129;01mnot\u001b[39;00m \u001b[38;5;28misinstance\u001b[39m(key, \u001b[38;5;28mtuple\u001b[39m):\n\u001b[0;32m-> 2916\u001b[0m     loc \u001b[38;5;241m=\u001b[39m \u001b[38;5;28;43mself\u001b[39;49m\u001b[38;5;241;43m.\u001b[39;49m\u001b[43m_get_level_indexer\u001b[49m\u001b[43m(\u001b[49m\u001b[43mkey\u001b[49m\u001b[43m,\u001b[49m\u001b[43m \u001b[49m\u001b[43mlevel\u001b[49m\u001b[38;5;241;43m=\u001b[39;49m\u001b[38;5;241;43m0\u001b[39;49m\u001b[43m)\u001b[49m\n\u001b[1;32m   2917\u001b[0m     \u001b[38;5;28;01mreturn\u001b[39;00m _maybe_to_slice(loc)\n\u001b[1;32m   2919\u001b[0m keylen \u001b[38;5;241m=\u001b[39m \u001b[38;5;28mlen\u001b[39m(key)\n",
      "File \u001b[0;32m~/anaconda3/lib/python3.10/site-packages/pandas/core/indexes/multi.py:3263\u001b[0m, in \u001b[0;36mMultiIndex._get_level_indexer\u001b[0;34m(self, key, level, indexer)\u001b[0m\n\u001b[1;32m   3259\u001b[0m         \u001b[38;5;28;01mreturn\u001b[39;00m \u001b[38;5;28mslice\u001b[39m(i, j, step)\n\u001b[1;32m   3261\u001b[0m \u001b[38;5;28;01melse\u001b[39;00m:\n\u001b[0;32m-> 3263\u001b[0m     idx \u001b[38;5;241m=\u001b[39m \u001b[38;5;28;43mself\u001b[39;49m\u001b[38;5;241;43m.\u001b[39;49m\u001b[43m_get_loc_single_level_index\u001b[49m\u001b[43m(\u001b[49m\u001b[43mlevel_index\u001b[49m\u001b[43m,\u001b[49m\u001b[43m \u001b[49m\u001b[43mkey\u001b[49m\u001b[43m)\u001b[49m\n\u001b[1;32m   3265\u001b[0m     \u001b[38;5;28;01mif\u001b[39;00m level \u001b[38;5;241m>\u001b[39m \u001b[38;5;241m0\u001b[39m \u001b[38;5;129;01mor\u001b[39;00m \u001b[38;5;28mself\u001b[39m\u001b[38;5;241m.\u001b[39m_lexsort_depth \u001b[38;5;241m==\u001b[39m \u001b[38;5;241m0\u001b[39m:\n\u001b[1;32m   3266\u001b[0m         \u001b[38;5;66;03m# Desired level is not sorted\u001b[39;00m\n\u001b[1;32m   3267\u001b[0m         \u001b[38;5;28;01mif\u001b[39;00m \u001b[38;5;28misinstance\u001b[39m(idx, \u001b[38;5;28mslice\u001b[39m):\n\u001b[1;32m   3268\u001b[0m             \u001b[38;5;66;03m# test_get_loc_partial_timestamp_multiindex\u001b[39;00m\n",
      "File \u001b[0;32m~/anaconda3/lib/python3.10/site-packages/pandas/core/indexes/multi.py:2849\u001b[0m, in \u001b[0;36mMultiIndex._get_loc_single_level_index\u001b[0;34m(self, level_index, key)\u001b[0m\n\u001b[1;32m   2847\u001b[0m     \u001b[38;5;28;01mreturn\u001b[39;00m \u001b[38;5;241m-\u001b[39m\u001b[38;5;241m1\u001b[39m\n\u001b[1;32m   2848\u001b[0m \u001b[38;5;28;01melse\u001b[39;00m:\n\u001b[0;32m-> 2849\u001b[0m     \u001b[38;5;28;01mreturn\u001b[39;00m \u001b[43mlevel_index\u001b[49m\u001b[38;5;241;43m.\u001b[39;49m\u001b[43mget_loc\u001b[49m\u001b[43m(\u001b[49m\u001b[43mkey\u001b[49m\u001b[43m)\u001b[49m\n",
      "File \u001b[0;32m~/anaconda3/lib/python3.10/site-packages/pandas/core/indexes/base.py:3804\u001b[0m, in \u001b[0;36mIndex.get_loc\u001b[0;34m(self, key, method, tolerance)\u001b[0m\n\u001b[1;32m   3802\u001b[0m     \u001b[38;5;28;01mreturn\u001b[39;00m \u001b[38;5;28mself\u001b[39m\u001b[38;5;241m.\u001b[39m_engine\u001b[38;5;241m.\u001b[39mget_loc(casted_key)\n\u001b[1;32m   3803\u001b[0m \u001b[38;5;28;01mexcept\u001b[39;00m \u001b[38;5;167;01mKeyError\u001b[39;00m \u001b[38;5;28;01mas\u001b[39;00m err:\n\u001b[0;32m-> 3804\u001b[0m     \u001b[38;5;28;01mraise\u001b[39;00m \u001b[38;5;167;01mKeyError\u001b[39;00m(key) \u001b[38;5;28;01mfrom\u001b[39;00m \u001b[38;5;21;01merr\u001b[39;00m\n\u001b[1;32m   3805\u001b[0m \u001b[38;5;28;01mexcept\u001b[39;00m \u001b[38;5;167;01mTypeError\u001b[39;00m:\n\u001b[1;32m   3806\u001b[0m     \u001b[38;5;66;03m# If we have a listlike key, _check_indexing_error will raise\u001b[39;00m\n\u001b[1;32m   3807\u001b[0m     \u001b[38;5;66;03m#  InvalidIndexError. Otherwise we fall through and re-raise\u001b[39;00m\n\u001b[1;32m   3808\u001b[0m     \u001b[38;5;66;03m#  the TypeError.\u001b[39;00m\n\u001b[1;32m   3809\u001b[0m     \u001b[38;5;28mself\u001b[39m\u001b[38;5;241m.\u001b[39m_check_indexing_error(key)\n",
      "\u001b[0;31mKeyError\u001b[0m: 'Team'"
     ]
    }
   ],
   "source": [
    "#players_2022 = player_test([2022])\n",
    "# Error is coming from MultiIndex\n",
    "teams_2022 = team_test([2022])"
   ]
  },
  {
   "cell_type": "code",
   "execution_count": null,
   "id": "11cba1ce",
   "metadata": {},
   "outputs": [],
   "source": [
    "passing_2022 = players_2022[0]\n",
    "rushing_2022 = players_2022[1]\n",
    "receiving_2022 = players_2022[2]\n",
    "teamOffense_2022 = teams_2022[0]\n",
    "teamDefense_2022 = teams_2022[1]\n",
    "teamPlays_2022 = teams_2022[2]"
   ]
  },
  {
   "cell_type": "code",
   "execution_count": null,
   "id": "e965a64b",
   "metadata": {},
   "outputs": [],
   "source": [
    "\n"
   ]
  },
  {
   "cell_type": "code",
   "execution_count": null,
   "id": "4f9540a2",
   "metadata": {},
   "outputs": [],
   "source": [
    "# create data for average statistics\n",
    "\n",
    "avg_passing_2022 = passing_2022.copy()\n",
    "avg_rushing_2022 = rushing_2022.copy()\n",
    "avg_receiving_2022 = receiving_2022.copy()"
   ]
  },
  {
   "cell_type": "code",
   "execution_count": null,
   "id": "247ea54e",
   "metadata": {},
   "outputs": [],
   "source": [
    "def get_averages(passing, rushing, receiving):\n",
    "    passing = passing.drop(columns=['YPA', 'TD%T%','Int%I%','Lg','Sack', 'Loss', 'Rate'])\n",
    "    rushing = rushing.drop(columns=['Avg', 'YPG','Lg' ])\n",
    "    receiving = receiving.drop(columns=['Avg', 'YPG', 'Lg'])\n",
    "    passing[['Att', \n",
    "                  'Cmp', 'Pct', 'Yds', 'TD', 'Int']] = passing[[ 'Att', \n",
    "                                                                         'Cmp', 'Pct', 'Yds', 'TD', 'Int']].div(passing['Gms'].values,axis=0)\n",
    "    rushing[[ 'Att', 'Yds', \n",
    "                  'TD', 'FD']] = rushing[['Att', 'Yds', \n",
    "                                                   'TD', 'FD']].div(rushing['Gms'].values,axis=0)\n",
    "    receiving[[ 'Rec', 'Yds', \n",
    "                    'TD', 'FD', 'Tar', 'YAC']] = receiving[[ 'Rec', 'Yds', \n",
    "                                                                     'TD', 'FD', 'Tar', 'YAC']].div(receiving['Gms'].values,axis=0)\n",
    "    return passing, rushing, receiving\n",
    "\n",
    "\n",
    "\n",
    "    "
   ]
  },
  {
   "cell_type": "code",
   "execution_count": null,
   "id": "2f904578",
   "metadata": {},
   "outputs": [],
   "source": [
    "pass_avg, rush_avg, rec_avg = get_averages(avg_passing_2022, avg_rushing_2022, avg_receiving_2022 )"
   ]
  },
  {
   "cell_type": "code",
   "execution_count": null,
   "id": "bedc2497",
   "metadata": {},
   "outputs": [],
   "source": []
  },
  {
   "cell_type": "code",
   "execution_count": null,
   "id": "70b1b8cf",
   "metadata": {},
   "outputs": [],
   "source": []
  },
  {
   "cell_type": "code",
   "execution_count": null,
   "id": "872dad02",
   "metadata": {},
   "outputs": [],
   "source": []
  },
  {
   "cell_type": "code",
   "execution_count": null,
   "id": "fdd51be0",
   "metadata": {},
   "outputs": [],
   "source": []
  },
  {
   "cell_type": "code",
   "execution_count": null,
   "id": "268e065e",
   "metadata": {},
   "outputs": [],
   "source": []
  },
  {
   "cell_type": "code",
   "execution_count": null,
   "id": "441de47e",
   "metadata": {},
   "outputs": [],
   "source": []
  },
  {
   "cell_type": "code",
   "execution_count": null,
   "id": "065961ab",
   "metadata": {},
   "outputs": [],
   "source": []
  },
  {
   "cell_type": "code",
   "execution_count": null,
   "id": "87749793",
   "metadata": {},
   "outputs": [],
   "source": []
  }
 ],
 "metadata": {
  "kernelspec": {
   "display_name": "Python 3 (ipykernel)",
   "language": "python",
   "name": "python3"
  },
  "language_info": {
   "codemirror_mode": {
    "name": "ipython",
    "version": 3
   },
   "file_extension": ".py",
   "mimetype": "text/x-python",
   "name": "python",
   "nbconvert_exporter": "python",
   "pygments_lexer": "ipython3",
   "version": "3.10.9"
  }
 },
 "nbformat": 4,
 "nbformat_minor": 5
}
